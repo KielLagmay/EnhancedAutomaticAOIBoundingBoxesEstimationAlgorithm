{
 "cells": [
  {
   "cell_type": "code",
   "execution_count": 38,
   "id": "wrapped-reggae",
   "metadata": {},
   "outputs": [],
   "source": [
    "import numpy as np\n",
    "import pandas as pd\n",
    "import matplotlib.pyplot as plt\n",
    "from DirectoryGenerator import DirectoryGenerator\n",
    "%matplotlib inline"
   ]
  },
  {
   "cell_type": "code",
   "execution_count": 39,
   "id": "federal-optimization",
   "metadata": {
    "scrolled": false
   },
   "outputs": [
    {
     "name": "stdout",
     "output_type": "stream",
     "text": [
      "File Path: /Users/ezekieladrieldlagmay/Documents/Dynamic Individual Eye-Tracking/AutomaticAOIBoundingBoxes-V2/Intersection Over Union XML Files/evalcurve-tp-old/evalcurve-tp-old.csv\n"
     ]
    },
    {
     "data": {
      "text/html": [
       "<div>\n",
       "<style scoped>\n",
       "    .dataframe tbody tr th:only-of-type {\n",
       "        vertical-align: middle;\n",
       "    }\n",
       "\n",
       "    .dataframe tbody tr th {\n",
       "        vertical-align: top;\n",
       "    }\n",
       "\n",
       "    .dataframe thead th {\n",
       "        text-align: right;\n",
       "    }\n",
       "</style>\n",
       "<table border=\"1\" class=\"dataframe\">\n",
       "  <thead>\n",
       "    <tr style=\"text-align: right;\">\n",
       "      <th></th>\n",
       "      <th>tp</th>\n",
       "      <th>recall</th>\n",
       "      <th>precision</th>\n",
       "      <th>harmonic_mean</th>\n",
       "    </tr>\n",
       "  </thead>\n",
       "  <tbody>\n",
       "    <tr>\n",
       "      <th>0</th>\n",
       "      <td>0.05</td>\n",
       "      <td>0.579866</td>\n",
       "      <td>0.538215</td>\n",
       "      <td>0.558265</td>\n",
       "    </tr>\n",
       "    <tr>\n",
       "      <th>1</th>\n",
       "      <td>0.10</td>\n",
       "      <td>0.579195</td>\n",
       "      <td>0.503204</td>\n",
       "      <td>0.538532</td>\n",
       "    </tr>\n",
       "    <tr>\n",
       "      <th>2</th>\n",
       "      <td>0.15</td>\n",
       "      <td>0.561074</td>\n",
       "      <td>0.468650</td>\n",
       "      <td>0.510714</td>\n",
       "    </tr>\n",
       "    <tr>\n",
       "      <th>3</th>\n",
       "      <td>0.20</td>\n",
       "      <td>0.529530</td>\n",
       "      <td>0.424028</td>\n",
       "      <td>0.470943</td>\n",
       "    </tr>\n",
       "    <tr>\n",
       "      <th>4</th>\n",
       "      <td>0.25</td>\n",
       "      <td>0.514094</td>\n",
       "      <td>0.404119</td>\n",
       "      <td>0.452521</td>\n",
       "    </tr>\n",
       "    <tr>\n",
       "      <th>5</th>\n",
       "      <td>0.30</td>\n",
       "      <td>0.465101</td>\n",
       "      <td>0.348055</td>\n",
       "      <td>0.398154</td>\n",
       "    </tr>\n",
       "    <tr>\n",
       "      <th>6</th>\n",
       "      <td>0.35</td>\n",
       "      <td>0.438255</td>\n",
       "      <td>0.309611</td>\n",
       "      <td>0.362869</td>\n",
       "    </tr>\n",
       "    <tr>\n",
       "      <th>7</th>\n",
       "      <td>0.40</td>\n",
       "      <td>0.397986</td>\n",
       "      <td>0.281236</td>\n",
       "      <td>0.329577</td>\n",
       "    </tr>\n",
       "    <tr>\n",
       "      <th>8</th>\n",
       "      <td>0.45</td>\n",
       "      <td>0.379866</td>\n",
       "      <td>0.261327</td>\n",
       "      <td>0.309639</td>\n",
       "    </tr>\n",
       "    <tr>\n",
       "      <th>9</th>\n",
       "      <td>0.50</td>\n",
       "      <td>0.363087</td>\n",
       "      <td>0.246453</td>\n",
       "      <td>0.293611</td>\n",
       "    </tr>\n",
       "    <tr>\n",
       "      <th>10</th>\n",
       "      <td>0.55</td>\n",
       "      <td>0.353691</td>\n",
       "      <td>0.226773</td>\n",
       "      <td>0.276357</td>\n",
       "    </tr>\n",
       "    <tr>\n",
       "      <th>11</th>\n",
       "      <td>0.60</td>\n",
       "      <td>0.348993</td>\n",
       "      <td>0.218764</td>\n",
       "      <td>0.268943</td>\n",
       "    </tr>\n",
       "    <tr>\n",
       "      <th>12</th>\n",
       "      <td>0.65</td>\n",
       "      <td>0.318121</td>\n",
       "      <td>0.188101</td>\n",
       "      <td>0.236414</td>\n",
       "    </tr>\n",
       "    <tr>\n",
       "      <th>13</th>\n",
       "      <td>0.70</td>\n",
       "      <td>0.298658</td>\n",
       "      <td>0.173226</td>\n",
       "      <td>0.219271</td>\n",
       "    </tr>\n",
       "    <tr>\n",
       "      <th>14</th>\n",
       "      <td>0.75</td>\n",
       "      <td>0.269127</td>\n",
       "      <td>0.142105</td>\n",
       "      <td>0.185999</td>\n",
       "    </tr>\n",
       "    <tr>\n",
       "      <th>15</th>\n",
       "      <td>0.80</td>\n",
       "      <td>0.237584</td>\n",
       "      <td>0.115789</td>\n",
       "      <td>0.155697</td>\n",
       "    </tr>\n",
       "    <tr>\n",
       "      <th>16</th>\n",
       "      <td>0.85</td>\n",
       "      <td>0.208054</td>\n",
       "      <td>0.090160</td>\n",
       "      <td>0.125803</td>\n",
       "    </tr>\n",
       "    <tr>\n",
       "      <th>17</th>\n",
       "      <td>0.90</td>\n",
       "      <td>0.187920</td>\n",
       "      <td>0.083295</td>\n",
       "      <td>0.115427</td>\n",
       "    </tr>\n",
       "    <tr>\n",
       "      <th>18</th>\n",
       "      <td>0.95</td>\n",
       "      <td>0.150336</td>\n",
       "      <td>0.066819</td>\n",
       "      <td>0.092518</td>\n",
       "    </tr>\n",
       "    <tr>\n",
       "      <th>19</th>\n",
       "      <td>1.00</td>\n",
       "      <td>0.093960</td>\n",
       "      <td>0.033867</td>\n",
       "      <td>0.049789</td>\n",
       "    </tr>\n",
       "  </tbody>\n",
       "</table>\n",
       "</div>"
      ],
      "text/plain": [
       "      tp    recall  precision  harmonic_mean\n",
       "0   0.05  0.579866   0.538215       0.558265\n",
       "1   0.10  0.579195   0.503204       0.538532\n",
       "2   0.15  0.561074   0.468650       0.510714\n",
       "3   0.20  0.529530   0.424028       0.470943\n",
       "4   0.25  0.514094   0.404119       0.452521\n",
       "5   0.30  0.465101   0.348055       0.398154\n",
       "6   0.35  0.438255   0.309611       0.362869\n",
       "7   0.40  0.397986   0.281236       0.329577\n",
       "8   0.45  0.379866   0.261327       0.309639\n",
       "9   0.50  0.363087   0.246453       0.293611\n",
       "10  0.55  0.353691   0.226773       0.276357\n",
       "11  0.60  0.348993   0.218764       0.268943\n",
       "12  0.65  0.318121   0.188101       0.236414\n",
       "13  0.70  0.298658   0.173226       0.219271\n",
       "14  0.75  0.269127   0.142105       0.185999\n",
       "15  0.80  0.237584   0.115789       0.155697\n",
       "16  0.85  0.208054   0.090160       0.125803\n",
       "17  0.90  0.187920   0.083295       0.115427\n",
       "18  0.95  0.150336   0.066819       0.092518\n",
       "19  1.00  0.093960   0.033867       0.049789"
      ]
     },
     "execution_count": 39,
     "metadata": {},
     "output_type": "execute_result"
    }
   ],
   "source": [
    "iouPlotDataFileName = str(input(\"File Path: \"))\n",
    "iouPlotData = pd.read_csv(iouPlotDataFileName)\n",
    "iouPlotData"
   ]
  },
  {
   "cell_type": "code",
   "execution_count": 40,
   "id": "joined-tracker",
   "metadata": {},
   "outputs": [
    {
     "data": {
      "text/plain": [
       "['tp', 'recall', 'precision', 'harmonic_mean']"
      ]
     },
     "execution_count": 40,
     "metadata": {},
     "output_type": "execute_result"
    }
   ],
   "source": [
    "cols = list(iouPlotData.columns)\n",
    "cols"
   ]
  },
  {
   "cell_type": "code",
   "execution_count": 41,
   "id": "front-tutorial",
   "metadata": {},
   "outputs": [
    {
     "data": {
      "image/png": "[encoded data removed]",
      "text/plain": [
       "<Figure size 432x288 with 1 Axes>"
      ]
     },
     "metadata": {
      "needs_background": "light"
     },
     "output_type": "display_data"
    }
   ],
   "source": [
    "for i in range(1, len(cols)):\n",
    "    plt.plot(iouPlotData[cols[0]], iouPlotData[cols[i]], label = cols[i])\n",
    "\n",
    "plt.xlabel(cols[0])\n",
    "plt.xlim((0, 1))\n",
    "plt.ylim((0, 1))\n",
    "plt.legend()\n",
    "plotFile = iouPlotDataFileName.split('.')[0] + \".png\"\n",
    "fig = plt.gcf()\n",
    "fig.savefig(plotFile)"
   ]
  }
 ],
 "metadata": {
  "kernelspec": {
   "display_name": "Python 3",
   "language": "python",
   "name": "python3"
  },
  "language_info": {
   "codemirror_mode": {
    "name": "ipython",
    "version": 3
   },
   "file_extension": ".py",
   "mimetype": "text/x-python",
   "name": "python",
   "nbconvert_exporter": "python",
   "pygments_lexer": "ipython3",
   "version": "3.8.5"
  }
 },
 "nbformat": 4,
 "nbformat_minor": 5
}
